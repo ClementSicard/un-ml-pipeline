{
 "cells": [
  {
   "cell_type": "code",
   "execution_count": 1,
   "metadata": {},
   "outputs": [],
   "source": [
    "from transformers import AutoTokenizer, AutoModelForTokenClassification, pipeline"
   ]
  },
  {
   "cell_type": "code",
   "execution_count": 2,
   "metadata": {},
   "outputs": [
    {
     "name": "stdout",
     "output_type": "stream",
     "text": [
      "Tentative: 1\n"
     ]
    }
   ],
   "source": [
    "ok = False\n",
    "n_tentatives = 0\n",
    "\n",
    "while not ok:\n",
    "    try:\n",
    "        n_tentatives += 1\n",
    "        print(f\"Tentative: {n_tentatives}\")\n",
    "        tokenizer = AutoTokenizer.from_pretrained(\"Jean-Baptiste/roberta-large-ner-english\")\n",
    "        model = AutoModelForTokenClassification.from_pretrained(\"Jean-Baptiste/roberta-large-ner-english\")\n",
    "        ok = True\n",
    "    except Exception as err:\n",
    "        print(\"Error: zebi\", err)"
   ]
  },
  {
   "cell_type": "code",
   "execution_count": 3,
   "metadata": {},
   "outputs": [],
   "source": [
    "ner = pipeline(\"ner\", model=model, tokenizer=tokenizer, aggregation_strategy=\"simple\")"
   ]
  },
  {
   "cell_type": "code",
   "execution_count": 4,
   "metadata": {},
   "outputs": [
    {
     "data": {
      "text/plain": [
       "\"PRACTICE NOTE ISSUED DECEMBER 2021 WOMEN'S LEADERSHIP AND MEANINGFUL PARTICIPATION IN PEACEKEEPING CONTEXTS P h o t o b y F r a n c e s c a M o l d / U N M I S S D E P A R T M E N T O F P E A C E O P E R A T I O N S TABLE OF CONTENTS Executive Summary1 Objective, Scope and Purpose2 Overview: WPS in UN Peacekeeping Contexts2 a. Women's leadership, and full, equal and meaningful participation in peace and political processes3 b. Indicators on women's leadership, and full, equal and meaningful participation3 c. Challenges and limitations to women's leadership, and full, equal and meaningful participation4 The normative appeal to women's leadership, and full, equal and meaningful participation5 Good practices from Peacekeeping Missions5 i. Robust Gender and WPS languange in missions mandates5 ii. Systematised political advocacy6 iii. Mobilization through women's networks8 iv. Institutionalized monitoring mechanisms and quotas in peace agreements9 v. Collaboration and partnerships11 vi. Dat\""
      ]
     },
     "execution_count": 4,
     "metadata": {},
     "output_type": "execute_result"
    }
   ],
   "source": [
    "with open('text', 'r') as f:\n",
    "    text = f.read()\n",
    "\n",
    "text[:1000]"
   ]
  },
  {
   "cell_type": "code",
   "execution_count": null,
   "metadata": {},
   "outputs": [],
   "source": [
    "len()"
   ]
  }
 ],
 "metadata": {
  "kernelspec": {
   "display_name": "un-ml-pipeline-5nojIqN6-py3.10",
   "language": "python",
   "name": "python3"
  },
  "language_info": {
   "codemirror_mode": {
    "name": "ipython",
    "version": 3
   },
   "file_extension": ".py",
   "mimetype": "text/x-python",
   "name": "python",
   "nbconvert_exporter": "python",
   "pygments_lexer": "ipython3",
   "version": "3.10.10"
  },
  "orig_nbformat": 4
 },
 "nbformat": 4,
 "nbformat_minor": 2
}
