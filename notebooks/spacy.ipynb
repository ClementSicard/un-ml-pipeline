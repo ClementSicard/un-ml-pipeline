{
 "cells": [
  {
   "cell_type": "code",
   "execution_count": 3,
   "metadata": {},
   "outputs": [],
   "source": [
    "import spacy\n",
    "from spacy import displacy\n",
    "\n",
    "ner = spacy.load(\"en_core_web_sm\")"
   ]
  },
  {
   "cell_type": "code",
   "execution_count": 6,
   "metadata": {},
   "outputs": [
    {
     "data": {
      "text/plain": [
       "\"PRACTICE NOTE ISSUED DECEMBER 2021 WOMEN'S LEADERSHIP AND MEANINGFUL PARTICIPATION IN PEACEKEEPING CONTEXTS P h o t o b y F r a n c e s c a M o l d / U N M I S S D E P A R T M E N T O F P E A C E O P E R A T I O N S TABLE OF CONTENTS Executive Summary1 Objective, Scope and Purpose2 Overview: WPS in UN Peacekeeping Contexts2 a. Women's leadership, and full, equal and meaningful participation in peace and political processes3 b. Indicators on women's leadership, and full, equal and meaningful participation3 c. Challenges and limitations to women's leadership, and full, equal and meaningful participation4 The normative appeal to women's leadership, and full, equal and meaningful participation5 Good practices from Peacekeeping Missions5 i. Robust Gender and WPS languange in missions mandates5 ii. Systematised political advocacy6 iii. Mobilization through women's networks8 iv. Institutionalized monitoring mechanisms and quotas in peace agreements9 v. Collaboration and partnerships11 vi. Data collection and gender analysis11 vii. Strategic communications and public information13 viii. Innovative approaches and creativity14 Conclusions and Recommendations16 ¿ALGÚN COMENTARIO? HOLA@GRANDIARIO.ES The 20th anniversary of the United Nations (UN) Security Council Resolution 1325 (2000) on Women, Peace, and Security (WPS) in 2020 was an opportunity to take stock on progress, challenges and opportunities towards the implementation of the WPS agenda. Of priority being the strengthening of women’s full, equal, and meaningful participation in peace and political processes as well as the systemic integration of gender and WPS in all aspects of peacekeeping. Articulated as a political imperative, in the Secretary General’s Action for Peacekeeping (A4P) initiative, and in the A4P+ plan, WPS is central to enhancing operational effectiveness in peacekeeping and sustaining peace. Amidst the Covid 19 pandemic limitations, the Department of Peace Operations (DPO) reviewed progress and challenges to women’s leadership, and full, equal and meaningful participation in peace and political processes. Stirred by women’s experiences shared in a round table discussion with the UN Secretary-General and women leaders from Darfur, Cyprus, the Central African Republic (CAR) and Mali that culminated into the Secretary General’s Call to Action on Women Transforming Peace in Peacekeeping contexts (CtA) and following the recommendations of the Policy Brief on Women Transforming Peace, DPO saw the need to further assess ongoing good and promising practices in peacekeeping contexts in line with the core priority areas encapsulated in the CtA; investing in community local networks, harnessing data and gender analysis, leveraging women’s mobilising power, systematising women’s leadership in conflict prevention and fostering dynamic partnerships. This Practice Note therefore, constitutes empirical evidence highlighting women’s leadership, and full, equal and meaningful participation in peace and political processes in peacekeeping contexts in five missions namely UN Interim Force in Lebanon (UNIFIL), the UN Peacekeeping Force in Cyprus (UNFICYP), the UN Mission in South Sudan (UNMISS), the Multidimensional Integrated Stabilization Mission in Mali (MINUSMA), and the UN Multidimensional Integrated Stabilization Mission in the Central African Republic (MINUSCA). Despite the existing barriers and structural limitations, women’s agency is manifest in peacekeeping contexts. Their individual and collective engagement is dynamic, with a transformative impact on the implementation of mission mandates within host nations and communities. Women’s mobilizing power and role in fostering sustainable peace is manifest in their active engagement and influence on formal and informal processes of conflict prevention. Their participation in peace negotiations and transition mechanisms creates space for “their” stories of resilience, empowerment and primacy in politics and decision making to be shared. Their leadership and influence are to be maximized upon in decision making from a whole-of- society approach to move toward durable peace. Evidence from the selected case studies illustrates how peacekeeping missions are supporting and enhancing women’s leadership and participation during crisis and in transitions through gender sensitive mandates, political support and shared resources that allow for innovation; a pathway to the realization of WPS commitments. In their local grassroot networks, women are collectively bringing change as peace builders, rights defenders, women leaders, activists, and technical experts. Their vast approaches and initiatives form the basis of good practices for learning and replication within-mission and across missions. By lessons learnt, the Practice Note makes recommendations for the institutionalisation of WPS mandate implementation based on shared power, shared responsibilities and shared accountability between women in their diversity and as primary actors and stakeholders in peace and political processes. By tapping into the dynamic partnerships of women and investing in grassroots women leaders and their networks, we accelerate the realisation of the Secretary-General’s Call to Action, the implementation of the WPS and Humanitarian Action Compact (WPSHA) commitments, of which DPO is a signatory, and enhance UN peacekeeping missions’ operational effectiveness. EXECUTIVE SUMMARY 1 This Practice Note shares good practices on women’s leadership and meaningful participation in peace processes supported by peacekeeping missions. First, it documents women’s shared experiences and contributes knowledge to peacekeeping stakeholders. Second, it highlights pathways that women leaders, in collaboration with peacekeeping missions, have created to enhance women’s leadership and meaningful participation in peace and political processes and on WPS mandate implementation. Finally, it outlines lessons learnt and actionable measures for peacekeeping missions and partners to leverage on and scale. The criterion of selection of missions for the Practice Note is informed by the robustness of gender and WPS language in mission mandates; existing gender architecture; evidence available from data generated from WPS quarterly reporting; anecdotal evidence from missions’ strategic engagement and contribution to DPO Headquarters’ priorities; as well as demonstration of transformative good practices in high-level political platforms and processes. The good practices, lessons learnt, and challenges highlight areas for improvement as well as areas for greater investment with possibilities for consideration and replication in other contexts. Methodologically: The Practice Note draws and synergizes the contributions and experiences of various WPS practitioners through a participatory data collection process via interviews and focus discussions with mission staff, women leaders and organizations at the local and national levels. Secondary data comprises WPS normative frameworks, policy and practice documents from existing peacekeeping mandates, DPO WPS Annual Reports, the UN Secretary-General’s Annual Report on WPS, existing analytical briefs from WPS quarterly reports, mission-specific reports, UN Secretary General’s periodical Country-specific Reports to the Security Council and A4P reports [1]. OBJECTIVE, SCOPE AND PURPOSE Peacekeeping continues to be an effective tool in the promotion and maintenance of international peace and security with WPS topping the UN agenda since the passage of UNSCR1325 (2000). The A4P initiative outlines WPS as a political imperative in peace and political processes and a catalyst for enhanced operational effectiveness in peacekeeping. This notwithstanding, several factors continue to undermine the ability to deliver on gender equality in specific and the broader WPS agenda in general. The complex and fragile environment as well as the multiplicity of factors and political dynamics in host countries including financial constraints, personnel capacity limitations and, in some instances, weak WPS mandates each pose a major threat to women’s leadership and their full, equal and meaningful participation in the spectrum of conflict prevention, peacebuilding, peacemaking and peacekeeping. Due to these dynamics and challenges, women’s participation in peacekeeping contexts is still lagging. Women tend to be either not recognized or not fully engaged in decision making during transitional processes. Often, they are perceived as weak, vulnerable, and needing protection and not seen as a critical agent for transformation in stabilization efforts including elections, security, human rights, protections and overall governance. Through the networks of women leaders, the progress and impact of women’s leadership and meaningful participation is evident. However, regression is equally rife given the unpredictable political and security environment in host countries further worsened by Covid 19 constrains. OVERVIEW: WPS IN UN PEACEKEEPING CONTEXTS 2 1. https://peacekeeping.un.org/en/promoting-women-peace-and-security With UN Security Council 1325 and subsequent related resolutions paving the road for the WPS agenda, the Global Study on SCR 1325 (2015) acknowledges the continuous, disproportionate and unique impact of armed conflict on women and girls. Their contribution in conflict prevention, conflict resolution, peacekeeping and peacebuilding remains undervalued, in light of the evidence showcasing their effective role as active agents in peace and security both at a grassroots and national level. The idea that women are ineffective at peace and political processes directly conflicts with the data which proves otherwise. To overcome the persistence of this patriarchal perspective, there is a need to document the good practices of women’s leadership and meaningful participation to support mission leadership, host countries and Member States in sustaining \""
      ]
     },
     "execution_count": 6,
     "metadata": {},
     "output_type": "execute_result"
    }
   ],
   "source": [
    "with open(\"text\", \"r\") as f:\n",
    "    text = f.read()[:10000]\n",
    "text"
   ]
  },
  {
   "cell_type": "code",
   "execution_count": 9,
   "metadata": {},
   "outputs": [
    {
     "data": {
      "text/plain": [
       "((DECEMBER 2021,\n",
       "  F,\n",
       "  UN Peacekeeping Contexts2,\n",
       "  a. Women's,\n",
       "  processes3,\n",
       "  Missions5,\n",
       "  mandates5 ii,\n",
       "  networks8,\n",
       "  Collaboration and partnerships11 vi.,\n",
       "  information13,\n",
       "  creativity14 Conclusions,\n",
       "  Recommendations16,\n",
       "  20th,\n",
       "  the United Nations,\n",
       "  UN,\n",
       "  2020,\n",
       "  WPS,\n",
       "  WPS,\n",
       "  WPS,\n",
       "  19,\n",
       "  the Department of Peace Operations,\n",
       "  DPO,\n",
       "  UN,\n",
       "  Darfur,\n",
       "  the Central African Republic,\n",
       "  Mali,\n",
       "  CtA,\n",
       "  the Policy Brief on Women Transforming Peace,\n",
       "  DPO,\n",
       "  CtA,\n",
       "  five,\n",
       "  UN Interim Force,\n",
       "  Lebanon,\n",
       "  the UN Peacekeeping Force,\n",
       "  Cyprus,\n",
       "  the UN Mission in South Sudan,\n",
       "  the Multidimensional Integrated Stabilization Mission in Mali (MINUSMA,\n",
       "  the UN Multidimensional Integrated Stabilization Mission in the Central African Republic,\n",
       "  MINUSCA,\n",
       "  WPS,\n",
       "  the Practice Note,\n",
       "  WPS,\n",
       "  WPS,\n",
       "  Humanitarian Action Compact,\n",
       "  DPO,\n",
       "  UN,\n",
       "  1,\n",
       "  First,\n",
       "  Second,\n",
       "  WPS,\n",
       "  the Practice Note,\n",
       "  WPS,\n",
       "  WPS,\n",
       "  quarterly,\n",
       "  DPO Headquarters,\n",
       "  WPS,\n",
       "  DPO,\n",
       "  Annual,\n",
       "  UN,\n",
       "  WPS,\n",
       "  quarterly,\n",
       "  UN,\n",
       "  the Security Council,\n",
       "  1,\n",
       "  SCOPE,\n",
       "  PURPOSE Peacekeeping,\n",
       "  WPS,\n",
       "  UN,\n",
       "  2000,\n",
       "  WPS,\n",
       "  WPS,\n",
       "  WPS,\n",
       "  Covid,\n",
       "  19,\n",
       "  UN,\n",
       "  UN Security Council,\n",
       "  1325,\n",
       "  WPS,\n",
       "  the Global Study on SCR 1325,\n",
       "  2015,\n",
       "  States),\n",
       " 'DATE')"
      ]
     },
     "execution_count": 9,
     "metadata": {},
     "output_type": "execute_result"
    }
   ],
   "source": [
    "ner(text).ents, ner(text).ents[0].label_"
   ]
  },
  {
   "cell_type": "code",
   "execution_count": 10,
   "metadata": {},
   "outputs": [
    {
     "name": "stdout",
     "output_type": "stream",
     "text": [
      "DECEMBER 2021 DATE\n",
      "F ORG\n",
      "UN Peacekeeping Contexts2 ORG\n",
      "a. Women's PERSON\n",
      "processes3 PERSON\n",
      "Missions5 PERSON\n",
      "mandates5 ii EVENT\n",
      "networks8 ORG\n",
      "Collaboration and partnerships11 vi. WORK_OF_ART\n",
      "information13 PERSON\n",
      "creativity14 Conclusions PERSON\n",
      "Recommendations16 PERSON\n",
      "20th ORDINAL\n",
      "the United Nations ORG\n",
      "UN ORG\n",
      "2020 DATE\n",
      "WPS ORG\n",
      "WPS ORG\n",
      "WPS ORG\n",
      "19 CARDINAL\n",
      "the Department of Peace Operations ORG\n",
      "DPO ORG\n",
      "UN ORG\n",
      "Darfur GPE\n",
      "the Central African Republic ORG\n",
      "Mali PERSON\n",
      "CtA ORG\n",
      "the Policy Brief on Women Transforming Peace LAW\n",
      "DPO ORG\n",
      "CtA ORG\n",
      "five CARDINAL\n",
      "UN Interim Force ORG\n",
      "Lebanon GPE\n",
      "the UN Peacekeeping Force ORG\n",
      "Cyprus GPE\n",
      "the UN Mission in South Sudan ORG\n",
      "the Multidimensional Integrated Stabilization Mission in Mali (MINUSMA ORG\n",
      "the UN Multidimensional Integrated Stabilization Mission in the Central African Republic ORG\n",
      "MINUSCA ORG\n",
      "WPS ORG\n",
      "the Practice Note ORG\n",
      "WPS ORG\n",
      "WPS ORG\n",
      "Humanitarian Action Compact ORG\n",
      "DPO ORG\n",
      "UN ORG\n",
      "1 CARDINAL\n",
      "First ORDINAL\n",
      "Second ORDINAL\n",
      "WPS ORG\n",
      "the Practice Note ORG\n",
      "WPS ORG\n",
      "WPS ORG\n",
      "quarterly DATE\n",
      "DPO Headquarters ORG\n",
      "WPS ORG\n",
      "DPO ORG\n",
      "Annual DATE\n",
      "UN ORG\n",
      "WPS ORG\n",
      "quarterly DATE\n",
      "UN ORG\n",
      "the Security Council ORG\n",
      "1 CARDINAL\n",
      "SCOPE ORG\n",
      "PURPOSE Peacekeeping ORG\n",
      "WPS ORG\n",
      "UN ORG\n",
      "2000 DATE\n",
      "WPS ORG\n",
      "WPS ORG\n",
      "WPS ORG\n",
      "Covid PERSON\n",
      "19 CARDINAL\n",
      "UN ORG\n",
      "UN Security Council ORG\n",
      "1325 DATE\n",
      "WPS ORG\n",
      "the Global Study on SCR 1325 PRODUCT\n",
      "2015 DATE\n",
      "States GPE\n"
     ]
    }
   ],
   "source": [
    "for ent in ner(text).ents:\n",
    "    print(ent.text, ent.label_)"
   ]
  },
  {
   "cell_type": "code",
   "execution_count": null,
   "metadata": {},
   "outputs": [],
   "source": []
  }
 ],
 "metadata": {
  "kernelspec": {
   "display_name": "un-ml-pipeline-5nojIqN6-py3.10",
   "language": "python",
   "name": "python3"
  },
  "language_info": {
   "codemirror_mode": {
    "name": "ipython",
    "version": 3
   },
   "file_extension": ".py",
   "mimetype": "text/x-python",
   "name": "python",
   "nbconvert_exporter": "python",
   "pygments_lexer": "ipython3",
   "version": "3.10.10"
  },
  "orig_nbformat": 4
 },
 "nbformat": 4,
 "nbformat_minor": 2
}
