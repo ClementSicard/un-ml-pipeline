{
 "cells": [
  {
   "cell_type": "code",
   "execution_count": 1,
   "metadata": {},
   "outputs": [],
   "source": [
    "from unml.modules.summarize import Summarizer"
   ]
  },
  {
   "cell_type": "code",
   "execution_count": 2,
   "metadata": {},
   "outputs": [],
   "source": [
    "summarizer = Summarizer()"
   ]
  },
  {
   "cell_type": "code",
   "execution_count": 3,
   "metadata": {},
   "outputs": [],
   "source": [
    "text = \"The mission in collaboration with UNDP and UN Women also established a 1325 hotline, functioning as a general emergency safety line to report election-related security incidents faced by women, both as candidates and voters for rapid response. These combined efforts Good practices In-depth analysis of the evolvement of WPS in missions' mandates shows a trend of moving away from obscure WPS commitments to include more language and prioritized tasks with finer detail on women’s leadership and meaningful participation in peace and political processes. There are increased efforts to ensure the full, equal and meaningful participation of women in decision- making processes. Although a range of factors drive the implementation of the WPS agenda in peacekeeping, strong WPS language in UN mission mandates is an indispensable starting point. It suffices to note all missions under study have robust WPS language. II. SYSTEMATISED POLITICAL ADVOCACY 6 Proposed steps to succesful mandate strengthening include: i. Prioritizing gender, women peace and security as a strategic benchmark. ii. Proposing language early in the Security Council mandating process and facilitating engagement between country experts and WPS experts in member states’ permanent missions to increase the likelihood of incorporating WPS language. iii. Tapping on the influential role of the UN Security Council’s Informal Experts Group on Women and Peace and Security and WPS champions. iv. Intensified political advocacy and informal consultations to bridge the theory and practice of transformation. resulted in enhanced protection by the mission and security stakeholders, including de- escalation of situations where women candidates were under threats. The initiatives averted voter apathy and a record 46% of registered voters were women during this period of turmoil. However, limited compliance with the 35 % gender quota by political parties was noted, resulting in only 18 women (up from 8) being elected in the parliament. In South Sudan, women’s organizations have been key partners at the local and national levels in efforts aimed at strengthening political solutions, preventing violence and sustaining peace. Grassroots women’s organizations have successfully organized and engaged in reconciliation processes and raised awareness among local communities while pressuring national and international actors to implement the 35% quota in the Revitalized Agreement. The participation of women in the implementation mechanism in the transitional government and in CSO continues to elevate their role in sustaining peace. The launch of South Sudan Women’s Leadership Forum (SSWLF) by high-ranking government officials in strategic engagement with other stakeholders such as UN Women, UNDP and Institute for Democracy and Electoral Assistance (IDEA) on constitution making and electoral process has strengthened women’s capacity on the WPS agenda. UNMISS’s support and use of good offices to advocate for inclusion and participation of women at all levels of political leadership and peace implementation activities by, inter alia, connecting local women politicians and women leaders with national leaders builds on the momentum to implement the quota provision, particularly in the transitional government and assemblies. 7 P h o t o b y M a u ra A ja k , S o u t h S u d a n. At the peak of the COVID-19 pandemic, UNFICYP, participated in at least 47 virtual, intercommunal initiatives led by women’s CSOs and informal women’s groups. The civil society initiatives aimed at inter-communal trust building to embolden Greek Cypriot and Turkish Cypriot women to participate in all stages of the peace process. With ongoing support from UNFICYP, the women’s intercommunal civil society platforms mobilized to advocate for a resumption of talks with the inclusion of women alongside other gender considerations. With the support of UNFICYP, the Group of Friends of WPS established in 2021 reiterated their support for greater inclusion of women in the process and work reinforcing stakeholders’ commitment through a joint commitment. Women’s networks have mobilized to promote the full, equal, and meaningful participation of women as voters and candidates in presidential, legislative, and local elections. Numerical representative in electoral processes in areas of voter registration, political party representation and electoral positions are benchmarks for the implementation of the peace agreements in Mali, CAR and South Sudan. Despite the determination of women leaders and their grassroots efforts, the promising practices in these countries have been slow and uneven. Good practices In Mali, with MINUSMA’s support, local and national networks of women leaders and organizations have mobilized to engage in peace dialogues. For example, MINUSMA supported local and national level women’s networks to ensure WPS priorities were incorporated in the outcomes of the Inclusive National Political Dialogue in December 2019. Women also called for their meaningful participation in the 2020 elections, resulting in 41 women out of the 147 members of parliament being elected (27 percent). Following the military coup in August 2020, women leaders actively advocated for peaceful solutions between key political actors and groups and continued to mobilize to influence the transition agenda by producing common white papers and gender-responsive reform proposals.\""
   ]
  },
  {
   "cell_type": "code",
   "execution_count": 5,
   "metadata": {},
   "outputs": [
    {
     "name": "stderr",
     "output_type": "stream",
     "text": [
      "\u001b[32m2023-06-22 21:23:00.636\u001b[0m | \u001b[1mINFO    \u001b[0m | \u001b[36munml/modules/summarize.py:summarize:67\u001b[0m | \u001b[1mSummarizing document...\u001b[0m\n",
      "\u001b[32m2023-06-22 21:23:00.642\u001b[0m | \u001b[1mINFO    \u001b[0m | \u001b[36munml/modules/summarize.py:summarize:73\u001b[0m | \u001b[1mNumber of tokens: 1022\u001b[0m\n",
      "\u001b[32m2023-06-22 21:23:05.405\u001b[0m | \u001b[32m\u001b[1mSUCCESS \u001b[0m | \u001b[36munml/modules/summarize.py:summarize:118\u001b[0m | \u001b[32m\u001b[1mDone! Result is 327 characters long\u001b[0m\n"
     ]
    },
    {
     "data": {
      "text/plain": [
       "' In South Sudan, women’s organizations have been key partners at the local and national levels in efforts aimed at strengthening political solutions, preventing violence and sustaining peace . The participation of women in the implementation mechanism in the transitional government and in CSO continues to elevate their role .'"
      ]
     },
     "execution_count": 5,
     "metadata": {},
     "output_type": "execute_result"
    }
   ],
   "source": [
    "summarizer.summarize(text=text, verbose=True)"
   ]
  },
  {
   "cell_type": "code",
   "execution_count": 17,
   "metadata": {},
   "outputs": [
    {
     "name": "stdout",
     "output_type": "stream",
     "text": [
      "<class 'unml.modules.summarize.Summarizer'>\n"
     ]
    }
   ],
   "source": []
  },
  {
   "cell_type": "code",
   "execution_count": null,
   "metadata": {},
   "outputs": [],
   "source": []
  }
 ],
 "metadata": {
  "kernelspec": {
   "display_name": "un-ml-pipeline-5nojIqN6-py3.10",
   "language": "python",
   "name": "python3"
  },
  "language_info": {
   "codemirror_mode": {
    "name": "ipython",
    "version": 3
   },
   "file_extension": ".py",
   "mimetype": "text/x-python",
   "name": "python",
   "nbconvert_exporter": "python",
   "pygments_lexer": "ipython3",
   "version": "3.10.10"
  },
  "orig_nbformat": 4
 },
 "nbformat": 4,
 "nbformat_minor": 2
}
