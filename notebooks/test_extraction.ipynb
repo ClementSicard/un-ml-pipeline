{
 "cells": [
  {
   "cell_type": "code",
   "execution_count": 25,
   "metadata": {},
   "outputs": [
    {
     "data": {
      "text/plain": [
       "[{'entity_group': 'MISC',\n",
       "  'score': 0.93,\n",
       "  'word': 'WPS',\n",
       "  'start': 294,\n",
       "  'end': 297},\n",
       " {'entity_group': 'ORG',\n",
       "  'score': 0.983,\n",
       "  'word': 'UN',\n",
       "  'start': 301,\n",
       "  'end': 303}]"
      ]
     },
     "execution_count": 25,
     "metadata": {},
     "output_type": "execute_result"
    }
   ],
   "source": [
    "import json\n",
    "\n",
    "with open(\"../output.json\", \"r\") as f:\n",
    "    data = json.load(f)\n",
    "\n",
    "detailed = data[0]['named_entities']['detailed']\n",
    "detailed[:2]"
   ]
  },
  {
   "cell_type": "code",
   "execution_count": 23,
   "metadata": {},
   "outputs": [
    {
     "data": {
      "text/plain": [
       "399"
      ]
     },
     "execution_count": 23,
     "metadata": {},
     "output_type": "execute_result"
    }
   ],
   "source": [
    "len(detailed)"
   ]
  },
  {
   "cell_type": "code",
   "execution_count": 33,
   "metadata": {},
   "outputs": [
    {
     "data": {
      "text/plain": [
       "{'WPS': 65,\n",
       " 'UN': 26,\n",
       " 'CAR': 15,\n",
       " 'DPO': 14,\n",
       " 'MINUSCA': 14,\n",
       " 'MINUSMA': 10,\n",
       " 'Mali': 9,\n",
       " 'SSR': 7,\n",
       " 'Security Council': 6,\n",
       " 'UNIFIL': 6,\n",
       " 'UNFICYP': 6,\n",
       " 'South Sudan': 6,\n",
       " 'Cyprus': 5,\n",
       " 'UNMISS': 5,\n",
       " '�': 5,\n",
       " 'DDR': 5,\n",
       " 'UNDP': 5,\n",
       " 'A4P': 4,\n",
       " 'Lebanon': 4,\n",
       " 'Call': 3,\n",
       " 'UN Security Council': 3,\n",
       " 'WPSHA Compact': 3,\n",
       " 'UN Women': 3,\n",
       " 'TEC': 3,\n",
       " 'Council': 3,\n",
       " 'Department of Peace Operations': 2,\n",
       " 'Darfur': 2,\n",
       " 'Central African Republic': 2,\n",
       " 'Action': 2,\n",
       " 'CtA': 2,\n",
       " 'Global Study': 2,\n",
       " 'COVID-19': 2,\n",
       " 'Security': 2,\n",
       " 'A4P Plus': 2,\n",
       " 'CSO': 2,\n",
       " 'Greek Cypriot': 2,\n",
       " 'Turkish Cypriot': 2,\n",
       " 'Peace Agreement Monitoring Committee': 2,\n",
       " 'CSA': 2,\n",
       " 'Revitalized Agreement on the Resolution of the Conflict in South Sudan': 2,\n",
       " 'R-ARCSS': 2,\n",
       " 'EU': 2,\n",
       " 'Ready': 2,\n",
       " 'Power': 2,\n",
       " 'ALGÚN': 1,\n",
       " 'HOLA': 1,\n",
       " 'GRANDIARIO': 1,\n",
       " 'United Nations': 1,\n",
       " 'Resolution 13': 1,\n",
       " 'Action for Peacekeeping': 1}"
      ]
     },
     "execution_count": 33,
     "metadata": {},
     "output_type": "execute_result"
    }
   ],
   "source": [
    "entities = {}\n",
    "\n",
    "for entity in detailed:\n",
    "    if entity['word'] in entities:\n",
    "        entities[entity['word']] += 1\n",
    "    else:\n",
    "        entities[entity['word']] = 1\n",
    "\n",
    "# Sort by value\n",
    "entities = {k: v for k, v in sorted(entities.items(), key=lambda item: item[1], reverse=True)}\n",
    "\n",
    "# Take first 10 entities\n",
    "{k: entities[k] for k in list(entities)[:50]}"
   ]
  },
  {
   "cell_type": "code",
   "execution_count": 36,
   "metadata": {},
   "outputs": [
    {
     "data": {
      "text/plain": [
       "'UNDPO'"
      ]
     },
     "execution_count": 36,
     "metadata": {},
     "output_type": "execute_result"
    }
   ],
   "source": [
    "a = \"United Nations Department of Peacekeeping Operations\"\n",
    "\n",
    "\"\".join([b[0] for b in a.split() if b[0].isupper()])"
   ]
  },
  {
   "cell_type": "code",
   "execution_count": null,
   "metadata": {},
   "outputs": [],
   "source": []
  }
 ],
 "metadata": {
  "kernelspec": {
   "display_name": "un-ml-pipeline-5nojIqN6-py3.10",
   "language": "python",
   "name": "python3"
  },
  "language_info": {
   "codemirror_mode": {
    "name": "ipython",
    "version": 3
   },
   "file_extension": ".py",
   "mimetype": "text/x-python",
   "name": "python",
   "nbconvert_exporter": "python",
   "pygments_lexer": "ipython3",
   "version": "3.10.10"
  },
  "orig_nbformat": 4
 },
 "nbformat": 4,
 "nbformat_minor": 2
}
